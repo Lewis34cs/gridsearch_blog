{
 "cells": [
  {
   "cell_type": "markdown",
   "metadata": {},
   "source": [
    "# Gridsearch Blog Notebook"
   ]
  },
  {
   "cell_type": "code",
   "execution_count": 1,
   "metadata": {},
   "outputs": [],
   "source": [
    "# Importing libraries\n",
    "import pandas as pd\n",
    "import matplotlib.pyplot as plt\n",
    "import seaborn as sns\n",
    "import numpy as np\n",
    "%matplotlib inline"
   ]
  },
  {
   "cell_type": "code",
   "execution_count": 2,
   "metadata": {},
   "outputs": [],
   "source": [
    "from sklearn import metrics\n",
    "from sklearn.datasets import load_breast_cancer\n",
    "from sklearn.model_selection import train_test_split\n",
    "from sklearn.metrics import plot_confusion_matrix, classification_report, plot_roc_curve\n",
    "from sklearn.dummy import DummyClassifier\n",
    "from sklearn.utils import class_weight\n",
    "from sklearn.ensemble import RandomForestClassifier\n",
    "from sklearn.model_selection import GridSearchCV\n",
    "import shap"
   ]
  },
  {
   "cell_type": "code",
   "execution_count": 3,
   "metadata": {},
   "outputs": [],
   "source": [
    "# Setting our maximum column view\n",
    "pd.set_option('display.max_columns', 100)"
   ]
  },
  {
   "cell_type": "code",
   "execution_count": 4,
   "metadata": {},
   "outputs": [],
   "source": [
    "# Setting params for plots\n",
    "from matplotlib import cycler\n",
    "colors = cycler('color',\n",
    "                ['#EE6666', '#3388BB', '#9988DD',\n",
    "                 '#EECC55', '#88BB44', '#FFBBBB'])\n",
    "plt.rc('axes', facecolor='#E6E6E6', edgecolor='none',\n",
    "       axisbelow=True, grid=True, prop_cycle=colors)\n",
    "plt.rc('grid', color='w', linestyle='solid')\n",
    "plt.rc('xtick', direction='out', color='gray')\n",
    "plt.rc('ytick', direction='out', color='gray')\n",
    "plt.rc('patch', edgecolor='#E6E6E6')\n",
    "plt.rc('lines', linewidth=2)"
   ]
  },
  {
   "cell_type": "code",
   "execution_count": 5,
   "metadata": {},
   "outputs": [],
   "source": [
    "# loading in the data\n",
    "dataset = load_breast_cancer()\n",
    "features = dataset.data\n",
    "target = dataset.target"
   ]
  },
  {
   "cell_type": "code",
   "execution_count": 6,
   "metadata": {},
   "outputs": [
    {
     "data": {
      "text/plain": [
       "sklearn.utils.Bunch"
      ]
     },
     "execution_count": 6,
     "metadata": {},
     "output_type": "execute_result"
    }
   ],
   "source": [
    "type(dataset)"
   ]
  },
  {
   "cell_type": "markdown",
   "metadata": {},
   "source": [
    "The **dataset** variable is referencing what is known as a Bunch object. A Bunch object is a subclass of the dictionary object. Bunch is just like dictionary but it supports attribute type access. Dictionary is in-built type, whereas Bunch is from bunchclass package."
   ]
  },
  {
   "cell_type": "code",
   "execution_count": 7,
   "metadata": {
    "scrolled": true
   },
   "outputs": [],
   "source": [
    "# Creating a dataframe for the features\n",
    "df = pd.DataFrame(features)"
   ]
  },
  {
   "cell_type": "code",
   "execution_count": 8,
   "metadata": {},
   "outputs": [],
   "source": [
    "# setting column names\n",
    "df.columns = dataset.feature_names"
   ]
  },
  {
   "cell_type": "code",
   "execution_count": 9,
   "metadata": {},
   "outputs": [],
   "source": [
    "# Adding target column to dataframe\n",
    "df['target'] = target"
   ]
  },
  {
   "cell_type": "code",
   "execution_count": 10,
   "metadata": {
    "scrolled": true
   },
   "outputs": [
    {
     "data": {
      "text/html": [
       "<div>\n",
       "<style scoped>\n",
       "    .dataframe tbody tr th:only-of-type {\n",
       "        vertical-align: middle;\n",
       "    }\n",
       "\n",
       "    .dataframe tbody tr th {\n",
       "        vertical-align: top;\n",
       "    }\n",
       "\n",
       "    .dataframe thead th {\n",
       "        text-align: right;\n",
       "    }\n",
       "</style>\n",
       "<table border=\"1\" class=\"dataframe\">\n",
       "  <thead>\n",
       "    <tr style=\"text-align: right;\">\n",
       "      <th></th>\n",
       "      <th>mean radius</th>\n",
       "      <th>mean texture</th>\n",
       "      <th>mean perimeter</th>\n",
       "      <th>mean area</th>\n",
       "      <th>mean smoothness</th>\n",
       "      <th>mean compactness</th>\n",
       "      <th>mean concavity</th>\n",
       "      <th>mean concave points</th>\n",
       "      <th>mean symmetry</th>\n",
       "      <th>mean fractal dimension</th>\n",
       "      <th>radius error</th>\n",
       "      <th>texture error</th>\n",
       "      <th>perimeter error</th>\n",
       "      <th>area error</th>\n",
       "      <th>smoothness error</th>\n",
       "      <th>compactness error</th>\n",
       "      <th>concavity error</th>\n",
       "      <th>concave points error</th>\n",
       "      <th>symmetry error</th>\n",
       "      <th>fractal dimension error</th>\n",
       "      <th>worst radius</th>\n",
       "      <th>worst texture</th>\n",
       "      <th>worst perimeter</th>\n",
       "      <th>worst area</th>\n",
       "      <th>worst smoothness</th>\n",
       "      <th>worst compactness</th>\n",
       "      <th>worst concavity</th>\n",
       "      <th>worst concave points</th>\n",
       "      <th>worst symmetry</th>\n",
       "      <th>worst fractal dimension</th>\n",
       "      <th>target</th>\n",
       "    </tr>\n",
       "  </thead>\n",
       "  <tbody>\n",
       "    <tr>\n",
       "      <td>0</td>\n",
       "      <td>17.99</td>\n",
       "      <td>10.38</td>\n",
       "      <td>122.80</td>\n",
       "      <td>1001.0</td>\n",
       "      <td>0.11840</td>\n",
       "      <td>0.27760</td>\n",
       "      <td>0.3001</td>\n",
       "      <td>0.14710</td>\n",
       "      <td>0.2419</td>\n",
       "      <td>0.07871</td>\n",
       "      <td>1.0950</td>\n",
       "      <td>0.9053</td>\n",
       "      <td>8.589</td>\n",
       "      <td>153.40</td>\n",
       "      <td>0.006399</td>\n",
       "      <td>0.04904</td>\n",
       "      <td>0.05373</td>\n",
       "      <td>0.01587</td>\n",
       "      <td>0.03003</td>\n",
       "      <td>0.006193</td>\n",
       "      <td>25.38</td>\n",
       "      <td>17.33</td>\n",
       "      <td>184.60</td>\n",
       "      <td>2019.0</td>\n",
       "      <td>0.1622</td>\n",
       "      <td>0.6656</td>\n",
       "      <td>0.7119</td>\n",
       "      <td>0.2654</td>\n",
       "      <td>0.4601</td>\n",
       "      <td>0.11890</td>\n",
       "      <td>0</td>\n",
       "    </tr>\n",
       "    <tr>\n",
       "      <td>1</td>\n",
       "      <td>20.57</td>\n",
       "      <td>17.77</td>\n",
       "      <td>132.90</td>\n",
       "      <td>1326.0</td>\n",
       "      <td>0.08474</td>\n",
       "      <td>0.07864</td>\n",
       "      <td>0.0869</td>\n",
       "      <td>0.07017</td>\n",
       "      <td>0.1812</td>\n",
       "      <td>0.05667</td>\n",
       "      <td>0.5435</td>\n",
       "      <td>0.7339</td>\n",
       "      <td>3.398</td>\n",
       "      <td>74.08</td>\n",
       "      <td>0.005225</td>\n",
       "      <td>0.01308</td>\n",
       "      <td>0.01860</td>\n",
       "      <td>0.01340</td>\n",
       "      <td>0.01389</td>\n",
       "      <td>0.003532</td>\n",
       "      <td>24.99</td>\n",
       "      <td>23.41</td>\n",
       "      <td>158.80</td>\n",
       "      <td>1956.0</td>\n",
       "      <td>0.1238</td>\n",
       "      <td>0.1866</td>\n",
       "      <td>0.2416</td>\n",
       "      <td>0.1860</td>\n",
       "      <td>0.2750</td>\n",
       "      <td>0.08902</td>\n",
       "      <td>0</td>\n",
       "    </tr>\n",
       "    <tr>\n",
       "      <td>2</td>\n",
       "      <td>19.69</td>\n",
       "      <td>21.25</td>\n",
       "      <td>130.00</td>\n",
       "      <td>1203.0</td>\n",
       "      <td>0.10960</td>\n",
       "      <td>0.15990</td>\n",
       "      <td>0.1974</td>\n",
       "      <td>0.12790</td>\n",
       "      <td>0.2069</td>\n",
       "      <td>0.05999</td>\n",
       "      <td>0.7456</td>\n",
       "      <td>0.7869</td>\n",
       "      <td>4.585</td>\n",
       "      <td>94.03</td>\n",
       "      <td>0.006150</td>\n",
       "      <td>0.04006</td>\n",
       "      <td>0.03832</td>\n",
       "      <td>0.02058</td>\n",
       "      <td>0.02250</td>\n",
       "      <td>0.004571</td>\n",
       "      <td>23.57</td>\n",
       "      <td>25.53</td>\n",
       "      <td>152.50</td>\n",
       "      <td>1709.0</td>\n",
       "      <td>0.1444</td>\n",
       "      <td>0.4245</td>\n",
       "      <td>0.4504</td>\n",
       "      <td>0.2430</td>\n",
       "      <td>0.3613</td>\n",
       "      <td>0.08758</td>\n",
       "      <td>0</td>\n",
       "    </tr>\n",
       "    <tr>\n",
       "      <td>3</td>\n",
       "      <td>11.42</td>\n",
       "      <td>20.38</td>\n",
       "      <td>77.58</td>\n",
       "      <td>386.1</td>\n",
       "      <td>0.14250</td>\n",
       "      <td>0.28390</td>\n",
       "      <td>0.2414</td>\n",
       "      <td>0.10520</td>\n",
       "      <td>0.2597</td>\n",
       "      <td>0.09744</td>\n",
       "      <td>0.4956</td>\n",
       "      <td>1.1560</td>\n",
       "      <td>3.445</td>\n",
       "      <td>27.23</td>\n",
       "      <td>0.009110</td>\n",
       "      <td>0.07458</td>\n",
       "      <td>0.05661</td>\n",
       "      <td>0.01867</td>\n",
       "      <td>0.05963</td>\n",
       "      <td>0.009208</td>\n",
       "      <td>14.91</td>\n",
       "      <td>26.50</td>\n",
       "      <td>98.87</td>\n",
       "      <td>567.7</td>\n",
       "      <td>0.2098</td>\n",
       "      <td>0.8663</td>\n",
       "      <td>0.6869</td>\n",
       "      <td>0.2575</td>\n",
       "      <td>0.6638</td>\n",
       "      <td>0.17300</td>\n",
       "      <td>0</td>\n",
       "    </tr>\n",
       "    <tr>\n",
       "      <td>4</td>\n",
       "      <td>20.29</td>\n",
       "      <td>14.34</td>\n",
       "      <td>135.10</td>\n",
       "      <td>1297.0</td>\n",
       "      <td>0.10030</td>\n",
       "      <td>0.13280</td>\n",
       "      <td>0.1980</td>\n",
       "      <td>0.10430</td>\n",
       "      <td>0.1809</td>\n",
       "      <td>0.05883</td>\n",
       "      <td>0.7572</td>\n",
       "      <td>0.7813</td>\n",
       "      <td>5.438</td>\n",
       "      <td>94.44</td>\n",
       "      <td>0.011490</td>\n",
       "      <td>0.02461</td>\n",
       "      <td>0.05688</td>\n",
       "      <td>0.01885</td>\n",
       "      <td>0.01756</td>\n",
       "      <td>0.005115</td>\n",
       "      <td>22.54</td>\n",
       "      <td>16.67</td>\n",
       "      <td>152.20</td>\n",
       "      <td>1575.0</td>\n",
       "      <td>0.1374</td>\n",
       "      <td>0.2050</td>\n",
       "      <td>0.4000</td>\n",
       "      <td>0.1625</td>\n",
       "      <td>0.2364</td>\n",
       "      <td>0.07678</td>\n",
       "      <td>0</td>\n",
       "    </tr>\n",
       "  </tbody>\n",
       "</table>\n",
       "</div>"
      ],
      "text/plain": [
       "   mean radius  mean texture  mean perimeter  mean area  mean smoothness  \\\n",
       "0        17.99         10.38          122.80     1001.0          0.11840   \n",
       "1        20.57         17.77          132.90     1326.0          0.08474   \n",
       "2        19.69         21.25          130.00     1203.0          0.10960   \n",
       "3        11.42         20.38           77.58      386.1          0.14250   \n",
       "4        20.29         14.34          135.10     1297.0          0.10030   \n",
       "\n",
       "   mean compactness  mean concavity  mean concave points  mean symmetry  \\\n",
       "0           0.27760          0.3001              0.14710         0.2419   \n",
       "1           0.07864          0.0869              0.07017         0.1812   \n",
       "2           0.15990          0.1974              0.12790         0.2069   \n",
       "3           0.28390          0.2414              0.10520         0.2597   \n",
       "4           0.13280          0.1980              0.10430         0.1809   \n",
       "\n",
       "   mean fractal dimension  radius error  texture error  perimeter error  \\\n",
       "0                 0.07871        1.0950         0.9053            8.589   \n",
       "1                 0.05667        0.5435         0.7339            3.398   \n",
       "2                 0.05999        0.7456         0.7869            4.585   \n",
       "3                 0.09744        0.4956         1.1560            3.445   \n",
       "4                 0.05883        0.7572         0.7813            5.438   \n",
       "\n",
       "   area error  smoothness error  compactness error  concavity error  \\\n",
       "0      153.40          0.006399            0.04904          0.05373   \n",
       "1       74.08          0.005225            0.01308          0.01860   \n",
       "2       94.03          0.006150            0.04006          0.03832   \n",
       "3       27.23          0.009110            0.07458          0.05661   \n",
       "4       94.44          0.011490            0.02461          0.05688   \n",
       "\n",
       "   concave points error  symmetry error  fractal dimension error  \\\n",
       "0               0.01587         0.03003                 0.006193   \n",
       "1               0.01340         0.01389                 0.003532   \n",
       "2               0.02058         0.02250                 0.004571   \n",
       "3               0.01867         0.05963                 0.009208   \n",
       "4               0.01885         0.01756                 0.005115   \n",
       "\n",
       "   worst radius  worst texture  worst perimeter  worst area  worst smoothness  \\\n",
       "0         25.38          17.33           184.60      2019.0            0.1622   \n",
       "1         24.99          23.41           158.80      1956.0            0.1238   \n",
       "2         23.57          25.53           152.50      1709.0            0.1444   \n",
       "3         14.91          26.50            98.87       567.7            0.2098   \n",
       "4         22.54          16.67           152.20      1575.0            0.1374   \n",
       "\n",
       "   worst compactness  worst concavity  worst concave points  worst symmetry  \\\n",
       "0             0.6656           0.7119                0.2654          0.4601   \n",
       "1             0.1866           0.2416                0.1860          0.2750   \n",
       "2             0.4245           0.4504                0.2430          0.3613   \n",
       "3             0.8663           0.6869                0.2575          0.6638   \n",
       "4             0.2050           0.4000                0.1625          0.2364   \n",
       "\n",
       "   worst fractal dimension  target  \n",
       "0                  0.11890       0  \n",
       "1                  0.08902       0  \n",
       "2                  0.08758       0  \n",
       "3                  0.17300       0  \n",
       "4                  0.07678       0  "
      ]
     },
     "execution_count": 10,
     "metadata": {},
     "output_type": "execute_result"
    }
   ],
   "source": [
    "# Viewing first 5 rows of the dataframe\n",
    "df.head()"
   ]
  },
  {
   "cell_type": "code",
   "execution_count": 11,
   "metadata": {},
   "outputs": [],
   "source": [
    "def convert_class(num):\n",
    "    return abs(num - 1)"
   ]
  },
  {
   "cell_type": "code",
   "execution_count": 12,
   "metadata": {},
   "outputs": [],
   "source": [
    "converted_target = df['target'].apply(convert_class)"
   ]
  },
  {
   "cell_type": "code",
   "execution_count": 13,
   "metadata": {},
   "outputs": [],
   "source": [
    "df['target'] = converted_target"
   ]
  },
  {
   "cell_type": "code",
   "execution_count": 14,
   "metadata": {
    "scrolled": true
   },
   "outputs": [
    {
     "data": {
      "text/plain": [
       "mean radius                0.0\n",
       "mean texture               0.0\n",
       "mean perimeter             0.0\n",
       "mean area                  0.0\n",
       "mean smoothness            0.0\n",
       "mean compactness           0.0\n",
       "mean concavity             0.0\n",
       "mean concave points        0.0\n",
       "mean symmetry              0.0\n",
       "mean fractal dimension     0.0\n",
       "radius error               0.0\n",
       "texture error              0.0\n",
       "perimeter error            0.0\n",
       "area error                 0.0\n",
       "smoothness error           0.0\n",
       "compactness error          0.0\n",
       "concavity error            0.0\n",
       "concave points error       0.0\n",
       "symmetry error             0.0\n",
       "fractal dimension error    0.0\n",
       "worst radius               0.0\n",
       "worst texture              0.0\n",
       "worst perimeter            0.0\n",
       "worst area                 0.0\n",
       "worst smoothness           0.0\n",
       "worst compactness          0.0\n",
       "worst concavity            0.0\n",
       "worst concave points       0.0\n",
       "worst symmetry             0.0\n",
       "worst fractal dimension    0.0\n",
       "target                     0.0\n",
       "dtype: float64"
      ]
     },
     "execution_count": 14,
     "metadata": {},
     "output_type": "execute_result"
    }
   ],
   "source": [
    "df.isna().mean()"
   ]
  },
  {
   "cell_type": "code",
   "execution_count": 15,
   "metadata": {},
   "outputs": [],
   "source": [
    "# Setting labels for plot\n",
    "labels ='Benign=0   |   ' + 'Malignant=1'"
   ]
  },
  {
   "cell_type": "code",
   "execution_count": 16,
   "metadata": {
    "scrolled": true
   },
   "outputs": [
    {
     "data": {
      "image/png": "[encoded data removed]",
      "text/plain": [
       "<Figure size 432x288 with 1 Axes>"
      ]
     },
     "metadata": {
      "needs_background": "dark"
     },
     "output_type": "display_data"
    }
   ],
   "source": [
    "# Viewing number of patients within each class\n",
    "sns.countplot(x=df['target'])\n",
    "plt.title('Class Distribution')\n",
    "plt.xlabel(labels);"
   ]
  },
  {
   "cell_type": "markdown",
   "metadata": {},
   "source": [
    "We see that the classes are not balanced in the dataset. Note that the class we are most interested in is the '1' class, which tells us if a patient has a malignant tumor in their breast."
   ]
  },
  {
   "cell_type": "code",
   "execution_count": 17,
   "metadata": {
    "scrolled": false
   },
   "outputs": [
    {
     "data": {
      "text/html": [
       "<div>\n",
       "<style scoped>\n",
       "    .dataframe tbody tr th:only-of-type {\n",
       "        vertical-align: middle;\n",
       "    }\n",
       "\n",
       "    .dataframe tbody tr th {\n",
       "        vertical-align: top;\n",
       "    }\n",
       "\n",
       "    .dataframe thead th {\n",
       "        text-align: right;\n",
       "    }\n",
       "</style>\n",
       "<table border=\"1\" class=\"dataframe\">\n",
       "  <thead>\n",
       "    <tr style=\"text-align: right;\">\n",
       "      <th></th>\n",
       "      <th>mean radius</th>\n",
       "      <th>mean texture</th>\n",
       "      <th>mean perimeter</th>\n",
       "      <th>mean area</th>\n",
       "      <th>mean smoothness</th>\n",
       "      <th>mean compactness</th>\n",
       "      <th>mean concavity</th>\n",
       "      <th>mean concave points</th>\n",
       "      <th>mean symmetry</th>\n",
       "      <th>mean fractal dimension</th>\n",
       "      <th>radius error</th>\n",
       "      <th>texture error</th>\n",
       "      <th>perimeter error</th>\n",
       "      <th>area error</th>\n",
       "      <th>smoothness error</th>\n",
       "      <th>compactness error</th>\n",
       "      <th>concavity error</th>\n",
       "      <th>concave points error</th>\n",
       "      <th>symmetry error</th>\n",
       "      <th>fractal dimension error</th>\n",
       "      <th>worst radius</th>\n",
       "      <th>worst texture</th>\n",
       "      <th>worst perimeter</th>\n",
       "      <th>worst area</th>\n",
       "      <th>worst smoothness</th>\n",
       "      <th>worst compactness</th>\n",
       "      <th>worst concavity</th>\n",
       "      <th>worst concave points</th>\n",
       "      <th>worst symmetry</th>\n",
       "      <th>worst fractal dimension</th>\n",
       "      <th>target</th>\n",
       "    </tr>\n",
       "  </thead>\n",
       "  <tbody>\n",
       "    <tr>\n",
       "      <td>count</td>\n",
       "      <td>569.000000</td>\n",
       "      <td>569.000000</td>\n",
       "      <td>569.000000</td>\n",
       "      <td>569.000000</td>\n",
       "      <td>569.000000</td>\n",
       "      <td>569.000000</td>\n",
       "      <td>569.000000</td>\n",
       "      <td>569.000000</td>\n",
       "      <td>569.000000</td>\n",
       "      <td>569.000000</td>\n",
       "      <td>569.000000</td>\n",
       "      <td>569.000000</td>\n",
       "      <td>569.000000</td>\n",
       "      <td>569.000000</td>\n",
       "      <td>569.000000</td>\n",
       "      <td>569.000000</td>\n",
       "      <td>569.000000</td>\n",
       "      <td>569.000000</td>\n",
       "      <td>569.000000</td>\n",
       "      <td>569.000000</td>\n",
       "      <td>569.000000</td>\n",
       "      <td>569.000000</td>\n",
       "      <td>569.000000</td>\n",
       "      <td>569.000000</td>\n",
       "      <td>569.000000</td>\n",
       "      <td>569.000000</td>\n",
       "      <td>569.000000</td>\n",
       "      <td>569.000000</td>\n",
       "      <td>569.000000</td>\n",
       "      <td>569.000000</td>\n",
       "      <td>569.000000</td>\n",
       "    </tr>\n",
       "    <tr>\n",
       "      <td>mean</td>\n",
       "      <td>14.127292</td>\n",
       "      <td>19.289649</td>\n",
       "      <td>91.969033</td>\n",
       "      <td>654.889104</td>\n",
       "      <td>0.096360</td>\n",
       "      <td>0.104341</td>\n",
       "      <td>0.088799</td>\n",
       "      <td>0.048919</td>\n",
       "      <td>0.181162</td>\n",
       "      <td>0.062798</td>\n",
       "      <td>0.405172</td>\n",
       "      <td>1.216853</td>\n",
       "      <td>2.866059</td>\n",
       "      <td>40.337079</td>\n",
       "      <td>0.007041</td>\n",
       "      <td>0.025478</td>\n",
       "      <td>0.031894</td>\n",
       "      <td>0.011796</td>\n",
       "      <td>0.020542</td>\n",
       "      <td>0.003795</td>\n",
       "      <td>16.269190</td>\n",
       "      <td>25.677223</td>\n",
       "      <td>107.261213</td>\n",
       "      <td>880.583128</td>\n",
       "      <td>0.132369</td>\n",
       "      <td>0.254265</td>\n",
       "      <td>0.272188</td>\n",
       "      <td>0.114606</td>\n",
       "      <td>0.290076</td>\n",
       "      <td>0.083946</td>\n",
       "      <td>0.372583</td>\n",
       "    </tr>\n",
       "    <tr>\n",
       "      <td>std</td>\n",
       "      <td>3.524049</td>\n",
       "      <td>4.301036</td>\n",
       "      <td>24.298981</td>\n",
       "      <td>351.914129</td>\n",
       "      <td>0.014064</td>\n",
       "      <td>0.052813</td>\n",
       "      <td>0.079720</td>\n",
       "      <td>0.038803</td>\n",
       "      <td>0.027414</td>\n",
       "      <td>0.007060</td>\n",
       "      <td>0.277313</td>\n",
       "      <td>0.551648</td>\n",
       "      <td>2.021855</td>\n",
       "      <td>45.491006</td>\n",
       "      <td>0.003003</td>\n",
       "      <td>0.017908</td>\n",
       "      <td>0.030186</td>\n",
       "      <td>0.006170</td>\n",
       "      <td>0.008266</td>\n",
       "      <td>0.002646</td>\n",
       "      <td>4.833242</td>\n",
       "      <td>6.146258</td>\n",
       "      <td>33.602542</td>\n",
       "      <td>569.356993</td>\n",
       "      <td>0.022832</td>\n",
       "      <td>0.157336</td>\n",
       "      <td>0.208624</td>\n",
       "      <td>0.065732</td>\n",
       "      <td>0.061867</td>\n",
       "      <td>0.018061</td>\n",
       "      <td>0.483918</td>\n",
       "    </tr>\n",
       "    <tr>\n",
       "      <td>min</td>\n",
       "      <td>6.981000</td>\n",
       "      <td>9.710000</td>\n",
       "      <td>43.790000</td>\n",
       "      <td>143.500000</td>\n",
       "      <td>0.052630</td>\n",
       "      <td>0.019380</td>\n",
       "      <td>0.000000</td>\n",
       "      <td>0.000000</td>\n",
       "      <td>0.106000</td>\n",
       "      <td>0.049960</td>\n",
       "      <td>0.111500</td>\n",
       "      <td>0.360200</td>\n",
       "      <td>0.757000</td>\n",
       "      <td>6.802000</td>\n",
       "      <td>0.001713</td>\n",
       "      <td>0.002252</td>\n",
       "      <td>0.000000</td>\n",
       "      <td>0.000000</td>\n",
       "      <td>0.007882</td>\n",
       "      <td>0.000895</td>\n",
       "      <td>7.930000</td>\n",
       "      <td>12.020000</td>\n",
       "      <td>50.410000</td>\n",
       "      <td>185.200000</td>\n",
       "      <td>0.071170</td>\n",
       "      <td>0.027290</td>\n",
       "      <td>0.000000</td>\n",
       "      <td>0.000000</td>\n",
       "      <td>0.156500</td>\n",
       "      <td>0.055040</td>\n",
       "      <td>0.000000</td>\n",
       "    </tr>\n",
       "    <tr>\n",
       "      <td>25%</td>\n",
       "      <td>11.700000</td>\n",
       "      <td>16.170000</td>\n",
       "      <td>75.170000</td>\n",
       "      <td>420.300000</td>\n",
       "      <td>0.086370</td>\n",
       "      <td>0.064920</td>\n",
       "      <td>0.029560</td>\n",
       "      <td>0.020310</td>\n",
       "      <td>0.161900</td>\n",
       "      <td>0.057700</td>\n",
       "      <td>0.232400</td>\n",
       "      <td>0.833900</td>\n",
       "      <td>1.606000</td>\n",
       "      <td>17.850000</td>\n",
       "      <td>0.005169</td>\n",
       "      <td>0.013080</td>\n",
       "      <td>0.015090</td>\n",
       "      <td>0.007638</td>\n",
       "      <td>0.015160</td>\n",
       "      <td>0.002248</td>\n",
       "      <td>13.010000</td>\n",
       "      <td>21.080000</td>\n",
       "      <td>84.110000</td>\n",
       "      <td>515.300000</td>\n",
       "      <td>0.116600</td>\n",
       "      <td>0.147200</td>\n",
       "      <td>0.114500</td>\n",
       "      <td>0.064930</td>\n",
       "      <td>0.250400</td>\n",
       "      <td>0.071460</td>\n",
       "      <td>0.000000</td>\n",
       "    </tr>\n",
       "    <tr>\n",
       "      <td>50%</td>\n",
       "      <td>13.370000</td>\n",
       "      <td>18.840000</td>\n",
       "      <td>86.240000</td>\n",
       "      <td>551.100000</td>\n",
       "      <td>0.095870</td>\n",
       "      <td>0.092630</td>\n",
       "      <td>0.061540</td>\n",
       "      <td>0.033500</td>\n",
       "      <td>0.179200</td>\n",
       "      <td>0.061540</td>\n",
       "      <td>0.324200</td>\n",
       "      <td>1.108000</td>\n",
       "      <td>2.287000</td>\n",
       "      <td>24.530000</td>\n",
       "      <td>0.006380</td>\n",
       "      <td>0.020450</td>\n",
       "      <td>0.025890</td>\n",
       "      <td>0.010930</td>\n",
       "      <td>0.018730</td>\n",
       "      <td>0.003187</td>\n",
       "      <td>14.970000</td>\n",
       "      <td>25.410000</td>\n",
       "      <td>97.660000</td>\n",
       "      <td>686.500000</td>\n",
       "      <td>0.131300</td>\n",
       "      <td>0.211900</td>\n",
       "      <td>0.226700</td>\n",
       "      <td>0.099930</td>\n",
       "      <td>0.282200</td>\n",
       "      <td>0.080040</td>\n",
       "      <td>0.000000</td>\n",
       "    </tr>\n",
       "    <tr>\n",
       "      <td>75%</td>\n",
       "      <td>15.780000</td>\n",
       "      <td>21.800000</td>\n",
       "      <td>104.100000</td>\n",
       "      <td>782.700000</td>\n",
       "      <td>0.105300</td>\n",
       "      <td>0.130400</td>\n",
       "      <td>0.130700</td>\n",
       "      <td>0.074000</td>\n",
       "      <td>0.195700</td>\n",
       "      <td>0.066120</td>\n",
       "      <td>0.478900</td>\n",
       "      <td>1.474000</td>\n",
       "      <td>3.357000</td>\n",
       "      <td>45.190000</td>\n",
       "      <td>0.008146</td>\n",
       "      <td>0.032450</td>\n",
       "      <td>0.042050</td>\n",
       "      <td>0.014710</td>\n",
       "      <td>0.023480</td>\n",
       "      <td>0.004558</td>\n",
       "      <td>18.790000</td>\n",
       "      <td>29.720000</td>\n",
       "      <td>125.400000</td>\n",
       "      <td>1084.000000</td>\n",
       "      <td>0.146000</td>\n",
       "      <td>0.339100</td>\n",
       "      <td>0.382900</td>\n",
       "      <td>0.161400</td>\n",
       "      <td>0.317900</td>\n",
       "      <td>0.092080</td>\n",
       "      <td>1.000000</td>\n",
       "    </tr>\n",
       "    <tr>\n",
       "      <td>max</td>\n",
       "      <td>28.110000</td>\n",
       "      <td>39.280000</td>\n",
       "      <td>188.500000</td>\n",
       "      <td>2501.000000</td>\n",
       "      <td>0.163400</td>\n",
       "      <td>0.345400</td>\n",
       "      <td>0.426800</td>\n",
       "      <td>0.201200</td>\n",
       "      <td>0.304000</td>\n",
       "      <td>0.097440</td>\n",
       "      <td>2.873000</td>\n",
       "      <td>4.885000</td>\n",
       "      <td>21.980000</td>\n",
       "      <td>542.200000</td>\n",
       "      <td>0.031130</td>\n",
       "      <td>0.135400</td>\n",
       "      <td>0.396000</td>\n",
       "      <td>0.052790</td>\n",
       "      <td>0.078950</td>\n",
       "      <td>0.029840</td>\n",
       "      <td>36.040000</td>\n",
       "      <td>49.540000</td>\n",
       "      <td>251.200000</td>\n",
       "      <td>4254.000000</td>\n",
       "      <td>0.222600</td>\n",
       "      <td>1.058000</td>\n",
       "      <td>1.252000</td>\n",
       "      <td>0.291000</td>\n",
       "      <td>0.663800</td>\n",
       "      <td>0.207500</td>\n",
       "      <td>1.000000</td>\n",
       "    </tr>\n",
       "  </tbody>\n",
       "</table>\n",
       "</div>"
      ],
      "text/plain": [
       "       mean radius  mean texture  mean perimeter    mean area  \\\n",
       "count   569.000000    569.000000      569.000000   569.000000   \n",
       "mean     14.127292     19.289649       91.969033   654.889104   \n",
       "std       3.524049      4.301036       24.298981   351.914129   \n",
       "min       6.981000      9.710000       43.790000   143.500000   \n",
       "25%      11.700000     16.170000       75.170000   420.300000   \n",
       "50%      13.370000     18.840000       86.240000   551.100000   \n",
       "75%      15.780000     21.800000      104.100000   782.700000   \n",
       "max      28.110000     39.280000      188.500000  2501.000000   \n",
       "\n",
       "       mean smoothness  mean compactness  mean concavity  mean concave points  \\\n",
       "count       569.000000        569.000000      569.000000           569.000000   \n",
       "mean          0.096360          0.104341        0.088799             0.048919   \n",
       "std           0.014064          0.052813        0.079720             0.038803   \n",
       "min           0.052630          0.019380        0.000000             0.000000   \n",
       "25%           0.086370          0.064920        0.029560             0.020310   \n",
       "50%           0.095870          0.092630        0.061540             0.033500   \n",
       "75%           0.105300          0.130400        0.130700             0.074000   \n",
       "max           0.163400          0.345400        0.426800             0.201200   \n",
       "\n",
       "       mean symmetry  mean fractal dimension  radius error  texture error  \\\n",
       "count     569.000000              569.000000    569.000000     569.000000   \n",
       "mean        0.181162                0.062798      0.405172       1.216853   \n",
       "std         0.027414                0.007060      0.277313       0.551648   \n",
       "min         0.106000                0.049960      0.111500       0.360200   \n",
       "25%         0.161900                0.057700      0.232400       0.833900   \n",
       "50%         0.179200                0.061540      0.324200       1.108000   \n",
       "75%         0.195700                0.066120      0.478900       1.474000   \n",
       "max         0.304000                0.097440      2.873000       4.885000   \n",
       "\n",
       "       perimeter error  area error  smoothness error  compactness error  \\\n",
       "count       569.000000  569.000000        569.000000         569.000000   \n",
       "mean          2.866059   40.337079          0.007041           0.025478   \n",
       "std           2.021855   45.491006          0.003003           0.017908   \n",
       "min           0.757000    6.802000          0.001713           0.002252   \n",
       "25%           1.606000   17.850000          0.005169           0.013080   \n",
       "50%           2.287000   24.530000          0.006380           0.020450   \n",
       "75%           3.357000   45.190000          0.008146           0.032450   \n",
       "max          21.980000  542.200000          0.031130           0.135400   \n",
       "\n",
       "       concavity error  concave points error  symmetry error  \\\n",
       "count       569.000000            569.000000      569.000000   \n",
       "mean          0.031894              0.011796        0.020542   \n",
       "std           0.030186              0.006170        0.008266   \n",
       "min           0.000000              0.000000        0.007882   \n",
       "25%           0.015090              0.007638        0.015160   \n",
       "50%           0.025890              0.010930        0.018730   \n",
       "75%           0.042050              0.014710        0.023480   \n",
       "max           0.396000              0.052790        0.078950   \n",
       "\n",
       "       fractal dimension error  worst radius  worst texture  worst perimeter  \\\n",
       "count               569.000000    569.000000     569.000000       569.000000   \n",
       "mean                  0.003795     16.269190      25.677223       107.261213   \n",
       "std                   0.002646      4.833242       6.146258        33.602542   \n",
       "min                   0.000895      7.930000      12.020000        50.410000   \n",
       "25%                   0.002248     13.010000      21.080000        84.110000   \n",
       "50%                   0.003187     14.970000      25.410000        97.660000   \n",
       "75%                   0.004558     18.790000      29.720000       125.400000   \n",
       "max                   0.029840     36.040000      49.540000       251.200000   \n",
       "\n",
       "        worst area  worst smoothness  worst compactness  worst concavity  \\\n",
       "count   569.000000        569.000000         569.000000       569.000000   \n",
       "mean    880.583128          0.132369           0.254265         0.272188   \n",
       "std     569.356993          0.022832           0.157336         0.208624   \n",
       "min     185.200000          0.071170           0.027290         0.000000   \n",
       "25%     515.300000          0.116600           0.147200         0.114500   \n",
       "50%     686.500000          0.131300           0.211900         0.226700   \n",
       "75%    1084.000000          0.146000           0.339100         0.382900   \n",
       "max    4254.000000          0.222600           1.058000         1.252000   \n",
       "\n",
       "       worst concave points  worst symmetry  worst fractal dimension  \\\n",
       "count            569.000000      569.000000               569.000000   \n",
       "mean               0.114606        0.290076                 0.083946   \n",
       "std                0.065732        0.061867                 0.018061   \n",
       "min                0.000000        0.156500                 0.055040   \n",
       "25%                0.064930        0.250400                 0.071460   \n",
       "50%                0.099930        0.282200                 0.080040   \n",
       "75%                0.161400        0.317900                 0.092080   \n",
       "max                0.291000        0.663800                 0.207500   \n",
       "\n",
       "           target  \n",
       "count  569.000000  \n",
       "mean     0.372583  \n",
       "std      0.483918  \n",
       "min      0.000000  \n",
       "25%      0.000000  \n",
       "50%      0.000000  \n",
       "75%      1.000000  \n",
       "max      1.000000  "
      ]
     },
     "execution_count": 17,
     "metadata": {},
     "output_type": "execute_result"
    }
   ],
   "source": [
    "df.describe()"
   ]
  },
  {
   "cell_type": "code",
   "execution_count": 18,
   "metadata": {},
   "outputs": [
    {
     "data": {
      "text/html": [
       "<style  type=\"text/css\" >\n",
       "    #T_bbdfb3e2_af71_11eb_b62c_3c9180d1aa66row0_col0 {\n",
       "            background-color:  #e2d9e2;\n",
       "            color:  #000000;\n",
       "        }    #T_bbdfb3e2_af71_11eb_b62c_3c9180d1aa66row1_col0 {\n",
       "            background-color:  #c17960;\n",
       "            color:  #000000;\n",
       "        }    #T_bbdfb3e2_af71_11eb_b62c_3c9180d1aa66row2_col0 {\n",
       "            background-color:  #bf725d;\n",
       "            color:  #000000;\n",
       "        }    #T_bbdfb3e2_af71_11eb_b62c_3c9180d1aa66row3_col0 {\n",
       "            background-color:  #be6f5b;\n",
       "            color:  #000000;\n",
       "        }    #T_bbdfb3e2_af71_11eb_b62c_3c9180d1aa66row4_col0 {\n",
       "            background-color:  #be6f5b;\n",
       "            color:  #000000;\n",
       "        }    #T_bbdfb3e2_af71_11eb_b62c_3c9180d1aa66row5_col0 {\n",
       "            background-color:  #b55b53;\n",
       "            color:  #000000;\n",
       "        }    #T_bbdfb3e2_af71_11eb_b62c_3c9180d1aa66row6_col0 {\n",
       "            background-color:  #b25652;\n",
       "            color:  #000000;\n",
       "        }    #T_bbdfb3e2_af71_11eb_b62c_3c9180d1aa66row7_col0 {\n",
       "            background-color:  #b15452;\n",
       "            color:  #f1f1f1;\n",
       "        }    #T_bbdfb3e2_af71_11eb_b62c_3c9180d1aa66row8_col0 {\n",
       "            background-color:  #a94950;\n",
       "            color:  #f1f1f1;\n",
       "        }    #T_bbdfb3e2_af71_11eb_b62c_3c9180d1aa66row9_col0 {\n",
       "            background-color:  #a54350;\n",
       "            color:  #f1f1f1;\n",
       "        }    #T_bbdfb3e2_af71_11eb_b62c_3c9180d1aa66row10_col0 {\n",
       "            background-color:  #953250;\n",
       "            color:  #f1f1f1;\n",
       "        }    #T_bbdfb3e2_af71_11eb_b62c_3c9180d1aa66row11_col0 {\n",
       "            background-color:  #721d4f;\n",
       "            color:  #f1f1f1;\n",
       "        }    #T_bbdfb3e2_af71_11eb_b62c_3c9180d1aa66row12_col0 {\n",
       "            background-color:  #6f1c4e;\n",
       "            color:  #f1f1f1;\n",
       "        }    #T_bbdfb3e2_af71_11eb_b62c_3c9180d1aa66row13_col0 {\n",
       "            background-color:  #60184a;\n",
       "            color:  #f1f1f1;\n",
       "        }    #T_bbdfb3e2_af71_11eb_b62c_3c9180d1aa66row14_col0 {\n",
       "            background-color:  #581647;\n",
       "            color:  #f1f1f1;\n",
       "        }    #T_bbdfb3e2_af71_11eb_b62c_3c9180d1aa66row15_col0 {\n",
       "            background-color:  #541546;\n",
       "            color:  #f1f1f1;\n",
       "        }    #T_bbdfb3e2_af71_11eb_b62c_3c9180d1aa66row16_col0 {\n",
       "            background-color:  #32123a;\n",
       "            color:  #f1f1f1;\n",
       "        }    #T_bbdfb3e2_af71_11eb_b62c_3c9180d1aa66row17_col0 {\n",
       "            background-color:  #3d114d;\n",
       "            color:  #f1f1f1;\n",
       "        }    #T_bbdfb3e2_af71_11eb_b62c_3c9180d1aa66row18_col0 {\n",
       "            background-color:  #3e1150;\n",
       "            color:  #f1f1f1;\n",
       "        }    #T_bbdfb3e2_af71_11eb_b62c_3c9180d1aa66row19_col0 {\n",
       "            background-color:  #3f1251;\n",
       "            color:  #f1f1f1;\n",
       "        }    #T_bbdfb3e2_af71_11eb_b62c_3c9180d1aa66row20_col0 {\n",
       "            background-color:  #411256;\n",
       "            color:  #f1f1f1;\n",
       "        }    #T_bbdfb3e2_af71_11eb_b62c_3c9180d1aa66row21_col0 {\n",
       "            background-color:  #541e7e;\n",
       "            color:  #f1f1f1;\n",
       "        }    #T_bbdfb3e2_af71_11eb_b62c_3c9180d1aa66row22_col0 {\n",
       "            background-color:  #5a2d92;\n",
       "            color:  #f1f1f1;\n",
       "        }    #T_bbdfb3e2_af71_11eb_b62c_3c9180d1aa66row23_col0 {\n",
       "            background-color:  #5b3095;\n",
       "            color:  #f1f1f1;\n",
       "        }    #T_bbdfb3e2_af71_11eb_b62c_3c9180d1aa66row24_col0 {\n",
       "            background-color:  #5d41a3;\n",
       "            color:  #f1f1f1;\n",
       "        }    #T_bbdfb3e2_af71_11eb_b62c_3c9180d1aa66row25_col0 {\n",
       "            background-color:  #5f58b0;\n",
       "            color:  #f1f1f1;\n",
       "        }    #T_bbdfb3e2_af71_11eb_b62c_3c9180d1aa66row26_col0 {\n",
       "            background-color:  #8db0c5;\n",
       "            color:  #000000;\n",
       "        }    #T_bbdfb3e2_af71_11eb_b62c_3c9180d1aa66row27_col0 {\n",
       "            background-color:  #c8d0d6;\n",
       "            color:  #000000;\n",
       "        }    #T_bbdfb3e2_af71_11eb_b62c_3c9180d1aa66row28_col0 {\n",
       "            background-color:  #c8d0d6;\n",
       "            color:  #000000;\n",
       "        }    #T_bbdfb3e2_af71_11eb_b62c_3c9180d1aa66row29_col0 {\n",
       "            background-color:  #ccd2d8;\n",
       "            color:  #000000;\n",
       "        }    #T_bbdfb3e2_af71_11eb_b62c_3c9180d1aa66row30_col0 {\n",
       "            background-color:  #e2d9e2;\n",
       "            color:  #000000;\n",
       "        }</style><table id=\"T_bbdfb3e2_af71_11eb_b62c_3c9180d1aa66\" ><thead>    <tr>        <th class=\"blank level0\" ></th>        <th class=\"col_heading level0 col0\" >target</th>    </tr></thead><tbody>\n",
       "                <tr>\n",
       "                        <th id=\"T_bbdfb3e2_af71_11eb_b62c_3c9180d1aa66level0_row0\" class=\"row_heading level0 row0\" >target</th>\n",
       "                        <td id=\"T_bbdfb3e2_af71_11eb_b62c_3c9180d1aa66row0_col0\" class=\"data row0 col0\" >1</td>\n",
       "            </tr>\n",
       "            <tr>\n",
       "                        <th id=\"T_bbdfb3e2_af71_11eb_b62c_3c9180d1aa66level0_row1\" class=\"row_heading level0 row1\" >worst concave points</th>\n",
       "                        <td id=\"T_bbdfb3e2_af71_11eb_b62c_3c9180d1aa66row1_col0\" class=\"data row1 col0\" >0.793566</td>\n",
       "            </tr>\n",
       "            <tr>\n",
       "                        <th id=\"T_bbdfb3e2_af71_11eb_b62c_3c9180d1aa66level0_row2\" class=\"row_heading level0 row2\" >worst perimeter</th>\n",
       "                        <td id=\"T_bbdfb3e2_af71_11eb_b62c_3c9180d1aa66row2_col0\" class=\"data row2 col0\" >0.782914</td>\n",
       "            </tr>\n",
       "            <tr>\n",
       "                        <th id=\"T_bbdfb3e2_af71_11eb_b62c_3c9180d1aa66level0_row3\" class=\"row_heading level0 row3\" >mean concave points</th>\n",
       "                        <td id=\"T_bbdfb3e2_af71_11eb_b62c_3c9180d1aa66row3_col0\" class=\"data row3 col0\" >0.776614</td>\n",
       "            </tr>\n",
       "            <tr>\n",
       "                        <th id=\"T_bbdfb3e2_af71_11eb_b62c_3c9180d1aa66level0_row4\" class=\"row_heading level0 row4\" >worst radius</th>\n",
       "                        <td id=\"T_bbdfb3e2_af71_11eb_b62c_3c9180d1aa66row4_col0\" class=\"data row4 col0\" >0.776454</td>\n",
       "            </tr>\n",
       "            <tr>\n",
       "                        <th id=\"T_bbdfb3e2_af71_11eb_b62c_3c9180d1aa66level0_row5\" class=\"row_heading level0 row5\" >mean perimeter</th>\n",
       "                        <td id=\"T_bbdfb3e2_af71_11eb_b62c_3c9180d1aa66row5_col0\" class=\"data row5 col0\" >0.742636</td>\n",
       "            </tr>\n",
       "            <tr>\n",
       "                        <th id=\"T_bbdfb3e2_af71_11eb_b62c_3c9180d1aa66level0_row6\" class=\"row_heading level0 row6\" >worst area</th>\n",
       "                        <td id=\"T_bbdfb3e2_af71_11eb_b62c_3c9180d1aa66row6_col0\" class=\"data row6 col0\" >0.733825</td>\n",
       "            </tr>\n",
       "            <tr>\n",
       "                        <th id=\"T_bbdfb3e2_af71_11eb_b62c_3c9180d1aa66level0_row7\" class=\"row_heading level0 row7\" >mean radius</th>\n",
       "                        <td id=\"T_bbdfb3e2_af71_11eb_b62c_3c9180d1aa66row7_col0\" class=\"data row7 col0\" >0.730029</td>\n",
       "            </tr>\n",
       "            <tr>\n",
       "                        <th id=\"T_bbdfb3e2_af71_11eb_b62c_3c9180d1aa66level0_row8\" class=\"row_heading level0 row8\" >mean area</th>\n",
       "                        <td id=\"T_bbdfb3e2_af71_11eb_b62c_3c9180d1aa66row8_col0\" class=\"data row8 col0\" >0.708984</td>\n",
       "            </tr>\n",
       "            <tr>\n",
       "                        <th id=\"T_bbdfb3e2_af71_11eb_b62c_3c9180d1aa66level0_row9\" class=\"row_heading level0 row9\" >mean concavity</th>\n",
       "                        <td id=\"T_bbdfb3e2_af71_11eb_b62c_3c9180d1aa66row9_col0\" class=\"data row9 col0\" >0.69636</td>\n",
       "            </tr>\n",
       "            <tr>\n",
       "                        <th id=\"T_bbdfb3e2_af71_11eb_b62c_3c9180d1aa66level0_row10\" class=\"row_heading level0 row10\" >worst concavity</th>\n",
       "                        <td id=\"T_bbdfb3e2_af71_11eb_b62c_3c9180d1aa66row10_col0\" class=\"data row10 col0\" >0.65961</td>\n",
       "            </tr>\n",
       "            <tr>\n",
       "                        <th id=\"T_bbdfb3e2_af71_11eb_b62c_3c9180d1aa66level0_row11\" class=\"row_heading level0 row11\" >mean compactness</th>\n",
       "                        <td id=\"T_bbdfb3e2_af71_11eb_b62c_3c9180d1aa66row11_col0\" class=\"data row11 col0\" >0.596534</td>\n",
       "            </tr>\n",
       "            <tr>\n",
       "                        <th id=\"T_bbdfb3e2_af71_11eb_b62c_3c9180d1aa66level0_row12\" class=\"row_heading level0 row12\" >worst compactness</th>\n",
       "                        <td id=\"T_bbdfb3e2_af71_11eb_b62c_3c9180d1aa66row12_col0\" class=\"data row12 col0\" >0.590998</td>\n",
       "            </tr>\n",
       "            <tr>\n",
       "                        <th id=\"T_bbdfb3e2_af71_11eb_b62c_3c9180d1aa66level0_row13\" class=\"row_heading level0 row13\" >radius error</th>\n",
       "                        <td id=\"T_bbdfb3e2_af71_11eb_b62c_3c9180d1aa66row13_col0\" class=\"data row13 col0\" >0.567134</td>\n",
       "            </tr>\n",
       "            <tr>\n",
       "                        <th id=\"T_bbdfb3e2_af71_11eb_b62c_3c9180d1aa66level0_row14\" class=\"row_heading level0 row14\" >perimeter error</th>\n",
       "                        <td id=\"T_bbdfb3e2_af71_11eb_b62c_3c9180d1aa66row14_col0\" class=\"data row14 col0\" >0.556141</td>\n",
       "            </tr>\n",
       "            <tr>\n",
       "                        <th id=\"T_bbdfb3e2_af71_11eb_b62c_3c9180d1aa66level0_row15\" class=\"row_heading level0 row15\" >area error</th>\n",
       "                        <td id=\"T_bbdfb3e2_af71_11eb_b62c_3c9180d1aa66row15_col0\" class=\"data row15 col0\" >0.548236</td>\n",
       "            </tr>\n",
       "            <tr>\n",
       "                        <th id=\"T_bbdfb3e2_af71_11eb_b62c_3c9180d1aa66level0_row16\" class=\"row_heading level0 row16\" >worst texture</th>\n",
       "                        <td id=\"T_bbdfb3e2_af71_11eb_b62c_3c9180d1aa66row16_col0\" class=\"data row16 col0\" >0.456903</td>\n",
       "            </tr>\n",
       "            <tr>\n",
       "                        <th id=\"T_bbdfb3e2_af71_11eb_b62c_3c9180d1aa66level0_row17\" class=\"row_heading level0 row17\" >worst smoothness</th>\n",
       "                        <td id=\"T_bbdfb3e2_af71_11eb_b62c_3c9180d1aa66row17_col0\" class=\"data row17 col0\" >0.421465</td>\n",
       "            </tr>\n",
       "            <tr>\n",
       "                        <th id=\"T_bbdfb3e2_af71_11eb_b62c_3c9180d1aa66level0_row18\" class=\"row_heading level0 row18\" >worst symmetry</th>\n",
       "                        <td id=\"T_bbdfb3e2_af71_11eb_b62c_3c9180d1aa66row18_col0\" class=\"data row18 col0\" >0.416294</td>\n",
       "            </tr>\n",
       "            <tr>\n",
       "                        <th id=\"T_bbdfb3e2_af71_11eb_b62c_3c9180d1aa66level0_row19\" class=\"row_heading level0 row19\" >mean texture</th>\n",
       "                        <td id=\"T_bbdfb3e2_af71_11eb_b62c_3c9180d1aa66row19_col0\" class=\"data row19 col0\" >0.415185</td>\n",
       "            </tr>\n",
       "            <tr>\n",
       "                        <th id=\"T_bbdfb3e2_af71_11eb_b62c_3c9180d1aa66level0_row20\" class=\"row_heading level0 row20\" >concave points error</th>\n",
       "                        <td id=\"T_bbdfb3e2_af71_11eb_b62c_3c9180d1aa66row20_col0\" class=\"data row20 col0\" >0.408042</td>\n",
       "            </tr>\n",
       "            <tr>\n",
       "                        <th id=\"T_bbdfb3e2_af71_11eb_b62c_3c9180d1aa66level0_row21\" class=\"row_heading level0 row21\" >mean smoothness</th>\n",
       "                        <td id=\"T_bbdfb3e2_af71_11eb_b62c_3c9180d1aa66row21_col0\" class=\"data row21 col0\" >0.35856</td>\n",
       "            </tr>\n",
       "            <tr>\n",
       "                        <th id=\"T_bbdfb3e2_af71_11eb_b62c_3c9180d1aa66level0_row22\" class=\"row_heading level0 row22\" >mean symmetry</th>\n",
       "                        <td id=\"T_bbdfb3e2_af71_11eb_b62c_3c9180d1aa66row22_col0\" class=\"data row22 col0\" >0.330499</td>\n",
       "            </tr>\n",
       "            <tr>\n",
       "                        <th id=\"T_bbdfb3e2_af71_11eb_b62c_3c9180d1aa66level0_row23\" class=\"row_heading level0 row23\" >worst fractal dimension</th>\n",
       "                        <td id=\"T_bbdfb3e2_af71_11eb_b62c_3c9180d1aa66row23_col0\" class=\"data row23 col0\" >0.323872</td>\n",
       "            </tr>\n",
       "            <tr>\n",
       "                        <th id=\"T_bbdfb3e2_af71_11eb_b62c_3c9180d1aa66level0_row24\" class=\"row_heading level0 row24\" >compactness error</th>\n",
       "                        <td id=\"T_bbdfb3e2_af71_11eb_b62c_3c9180d1aa66row24_col0\" class=\"data row24 col0\" >0.292999</td>\n",
       "            </tr>\n",
       "            <tr>\n",
       "                        <th id=\"T_bbdfb3e2_af71_11eb_b62c_3c9180d1aa66level0_row25\" class=\"row_heading level0 row25\" >concavity error</th>\n",
       "                        <td id=\"T_bbdfb3e2_af71_11eb_b62c_3c9180d1aa66row25_col0\" class=\"data row25 col0\" >0.25373</td>\n",
       "            </tr>\n",
       "            <tr>\n",
       "                        <th id=\"T_bbdfb3e2_af71_11eb_b62c_3c9180d1aa66level0_row26\" class=\"row_heading level0 row26\" >fractal dimension error</th>\n",
       "                        <td id=\"T_bbdfb3e2_af71_11eb_b62c_3c9180d1aa66row26_col0\" class=\"data row26 col0\" >0.0779724</td>\n",
       "            </tr>\n",
       "            <tr>\n",
       "                        <th id=\"T_bbdfb3e2_af71_11eb_b62c_3c9180d1aa66level0_row27\" class=\"row_heading level0 row27\" >symmetry error</th>\n",
       "                        <td id=\"T_bbdfb3e2_af71_11eb_b62c_3c9180d1aa66row27_col0\" class=\"data row27 col0\" >-0.00652176</td>\n",
       "            </tr>\n",
       "            <tr>\n",
       "                        <th id=\"T_bbdfb3e2_af71_11eb_b62c_3c9180d1aa66level0_row28\" class=\"row_heading level0 row28\" >texture error</th>\n",
       "                        <td id=\"T_bbdfb3e2_af71_11eb_b62c_3c9180d1aa66row28_col0\" class=\"data row28 col0\" >-0.00830333</td>\n",
       "            </tr>\n",
       "            <tr>\n",
       "                        <th id=\"T_bbdfb3e2_af71_11eb_b62c_3c9180d1aa66level0_row29\" class=\"row_heading level0 row29\" >mean fractal dimension</th>\n",
       "                        <td id=\"T_bbdfb3e2_af71_11eb_b62c_3c9180d1aa66row29_col0\" class=\"data row29 col0\" >-0.0128376</td>\n",
       "            </tr>\n",
       "            <tr>\n",
       "                        <th id=\"T_bbdfb3e2_af71_11eb_b62c_3c9180d1aa66level0_row30\" class=\"row_heading level0 row30\" >smoothness error</th>\n",
       "                        <td id=\"T_bbdfb3e2_af71_11eb_b62c_3c9180d1aa66row30_col0\" class=\"data row30 col0\" >-0.067016</td>\n",
       "            </tr>\n",
       "    </tbody></table>"
      ],
      "text/plain": [
       "<pandas.io.formats.style.Styler at 0x1a560e9ef28>"
      ]
     },
     "execution_count": 18,
     "metadata": {},
     "output_type": "execute_result"
    }
   ],
   "source": [
    "# Viewing the correlation between target and feature columns\n",
    "pd.DataFrame(df.corr()['target']).sort_values(by='target',ascending=False).\\\n",
    "style.background_gradient(cmap='twilight')"
   ]
  },
  {
   "cell_type": "markdown",
   "metadata": {},
   "source": [
    "### Creating train and test sets"
   ]
  },
  {
   "cell_type": "markdown",
   "metadata": {},
   "source": [
    "Splitting features and target column"
   ]
  },
  {
   "cell_type": "code",
   "execution_count": 19,
   "metadata": {},
   "outputs": [],
   "source": [
    "X = df.drop(columns='target')\n",
    "y = df['target']"
   ]
  },
  {
   "cell_type": "markdown",
   "metadata": {},
   "source": [
    "Creating train and test set"
   ]
  },
  {
   "cell_type": "code",
   "execution_count": 20,
   "metadata": {},
   "outputs": [],
   "source": [
    "X_train, X_test, y_train, y_test = train_test_split(X, y, random_state=42)"
   ]
  },
  {
   "cell_type": "markdown",
   "metadata": {},
   "source": [
    "### Creating a baseline model"
   ]
  },
  {
   "cell_type": "code",
   "execution_count": 21,
   "metadata": {},
   "outputs": [
    {
     "name": "stdout",
     "output_type": "stream",
     "text": [
      "              precision    recall  f1-score   support\n",
      "\n",
      "           0       0.61      0.62      0.61        89\n",
      "           1       0.36      0.35      0.36        54\n",
      "\n",
      "    accuracy                           0.52       143\n",
      "   macro avg       0.48      0.48      0.48       143\n",
      "weighted avg       0.52      0.52      0.52       143\n",
      "\n"
     ]
    }
   ],
   "source": [
    "# Creating and fitting our dummy classifier\n",
    "dummy = DummyClassifier(strategy='stratified')\n",
    "dummy.fit(X_train, y_train)\n",
    "\n",
    "# Creating our y_pred variable\n",
    "y_pred = dummy.predict(X_test)\n",
    "\n",
    "# Printing out the classification report\n",
    "print(classification_report(y_test, y_pred))"
   ]
  },
  {
   "cell_type": "code",
   "execution_count": 22,
   "metadata": {
    "scrolled": false
   },
   "outputs": [
    {
     "data": {
      "text/plain": [
       "<sklearn.metrics._plot.confusion_matrix.ConfusionMatrixDisplay at 0x1a54c5e4eb8>"
      ]
     },
     "execution_count": 22,
     "metadata": {},
     "output_type": "execute_result"
    },
    {
     "data": {
      "image/png": "[encoded data removed]",
      "text/plain": [
       "<Figure size 432x288 with 2 Axes>"
      ]
     },
     "metadata": {
      "needs_background": "dark"
     },
     "output_type": "display_data"
    }
   ],
   "source": [
    "plot_confusion_matrix(dummy, X_test, y_test, normalize='true', cmap='Blues');"
   ]
  },
  {
   "cell_type": "markdown",
   "metadata": {},
   "source": [
    "The dummy classifier has a 35% recall rate for the malignant class"
   ]
  },
  {
   "cell_type": "markdown",
   "metadata": {},
   "source": [
    "## Creating a Class weights for our model"
   ]
  },
  {
   "cell_type": "code",
   "execution_count": 23,
   "metadata": {
    "scrolled": true
   },
   "outputs": [
    {
     "name": "stdout",
     "output_type": "stream",
     "text": [
      "Our class weights:\n",
      "{0: 0.7947761194029851, 1: 1.3481012658227849}\n"
     ]
    }
   ],
   "source": [
    "# Creating our class weights dictionary\n",
    "class_weights = class_weight.compute_class_weight('balanced', classes=np.unique(y_train), \n",
    "                                                  y=y_train)\n",
    "class_weights_dict = {0: class_weights[0], 1: class_weights[1]}\n",
    "print(f\"Our class weights:\\n{class_weights_dict}\")"
   ]
  },
  {
   "cell_type": "code",
   "execution_count": 24,
   "metadata": {
    "scrolled": true
   },
   "outputs": [
    {
     "data": {
      "text/plain": [
       "array([0.79477612, 1.34810127])"
      ]
     },
     "execution_count": 24,
     "metadata": {},
     "output_type": "execute_result"
    }
   ],
   "source": [
    "class_weights"
   ]
  },
  {
   "cell_type": "markdown",
   "metadata": {},
   "source": [
    "## Setting up for the Gridsearch"
   ]
  },
  {
   "cell_type": "markdown",
   "metadata": {},
   "source": [
    "In order for us to use a gridsearch, we need to set up a hyperparameter and a model to feed into our gridsearch object"
   ]
  },
  {
   "cell_type": "markdown",
   "metadata": {},
   "source": [
    "### Defining hyperparameter grid"
   ]
  },
  {
   "cell_type": "code",
   "execution_count": 25,
   "metadata": {},
   "outputs": [],
   "source": [
    "params = {'n_estimators': [10, 25, 50, 100, 200], \n",
    "          'criterion': ['gini', 'entropy'], \n",
    "          'max_depth': [3, 5, 10, 15, 20, 25, None], \n",
    "          'min_samples_leaf': [1, 2, 5, 10]}"
   ]
  },
  {
   "cell_type": "code",
   "execution_count": 26,
   "metadata": {},
   "outputs": [],
   "source": [
    "forest = RandomForestClassifier(class_weight=class_weights_dict)"
   ]
  },
  {
   "cell_type": "markdown",
   "metadata": {},
   "source": [
    "The estimator will be the RandomForestClassifier model and we will feed in the params variable containing the grid into the param_grid. Because we are trying to create a model to diagnose breast cancer and our classes are not balanced, we want to aim for a high recall score for the malignant class. Below we will select 'recall' as the target scoring parameter to optimize for the gridsearch"
   ]
  },
  {
   "cell_type": "code",
   "execution_count": 27,
   "metadata": {},
   "outputs": [],
   "source": [
    "clf = GridSearchCV(estimator=forest, param_grid=params, scoring='recall', cv=10)"
   ]
  },
  {
   "cell_type": "code",
   "execution_count": 28,
   "metadata": {},
   "outputs": [
    {
     "data": {
      "text/plain": [
       "GridSearchCV(cv=5,\n",
       "             estimator=RandomForestClassifier(class_weight={0: 0.7947761194029851,\n",
       "                                                            1: 1.3481012658227849}),\n",
       "             param_grid={'criterion': ['gini', 'entropy'],\n",
       "                         'max_depth': [3, 5, 10, 15, 20, 25, None],\n",
       "                         'min_samples_leaf': [1, 2, 5, 10],\n",
       "                         'n_estimators': [10, 25, 50, 100, 200]},\n",
       "             scoring='recall')"
      ]
     },
     "execution_count": 28,
     "metadata": {},
     "output_type": "execute_result"
    }
   ],
   "source": [
    "clf.fit(X_train, y_train)"
   ]
  },
  {
   "cell_type": "code",
   "execution_count": 29,
   "metadata": {},
   "outputs": [],
   "source": [
    "best_params = clf.best_params_"
   ]
  },
  {
   "cell_type": "code",
   "execution_count": 30,
   "metadata": {
    "scrolled": false
   },
   "outputs": [
    {
     "data": {
      "text/plain": [
       "{'criterion': 'gini',\n",
       " 'max_depth': 25,\n",
       " 'min_samples_leaf': 5,\n",
       " 'n_estimators': 25}"
      ]
     },
     "execution_count": 30,
     "metadata": {},
     "output_type": "execute_result"
    }
   ],
   "source": [
    "best_params"
   ]
  },
  {
   "cell_type": "markdown",
   "metadata": {},
   "source": [
    "Unpacking the best parameter values into a new RandomForestClassifier and adding our class weights"
   ]
  },
  {
   "cell_type": "code",
   "execution_count": 31,
   "metadata": {},
   "outputs": [],
   "source": [
    "best_forest = RandomForestClassifier(**best_params, class_weight=class_weights_dict)"
   ]
  },
  {
   "cell_type": "code",
   "execution_count": 37,
   "metadata": {},
   "outputs": [
    {
     "data": {
      "text/plain": [
       "{'bootstrap': True,\n",
       " 'ccp_alpha': 0.0,\n",
       " 'class_weight': {0: 0.7947761194029851, 1: 1.3481012658227849},\n",
       " 'criterion': 'gini',\n",
       " 'max_depth': 25,\n",
       " 'max_features': 'auto',\n",
       " 'max_leaf_nodes': None,\n",
       " 'max_samples': None,\n",
       " 'min_impurity_decrease': 0.0,\n",
       " 'min_impurity_split': None,\n",
       " 'min_samples_leaf': 5,\n",
       " 'min_samples_split': 2,\n",
       " 'min_weight_fraction_leaf': 0.0,\n",
       " 'n_estimators': 25,\n",
       " 'n_jobs': None,\n",
       " 'oob_score': False,\n",
       " 'random_state': None,\n",
       " 'verbose': 0,\n",
       " 'warm_start': False}"
      ]
     },
     "execution_count": 37,
     "metadata": {},
     "output_type": "execute_result"
    }
   ],
   "source": [
    "best_forest.get_params()"
   ]
  },
  {
   "cell_type": "code",
   "execution_count": 32,
   "metadata": {},
   "outputs": [],
   "source": [
    "def evaluate_model(model, X_train, y_train, X_test, y_test):\n",
    "    \"\"\"\n",
    "    Definition:\n",
    "    fits model on the training set and evaluates the model on the testing set.\n",
    "    Prints out classification report along with a confusion matrix.\n",
    "    \n",
    "    Args:\n",
    "    model: Required. A model to evaluate.\n",
    "    X_train: Required. Features of the training set\n",
    "    y_train: Required. Labels of the training set\n",
    "    X_test: Required. Features of the testing set\n",
    "    y_test: Required. Labels of the testing set\n",
    "    \n",
    "    Returns:\n",
    "    A Classification report and confustion matrix of model evaluation on the test\n",
    "    set.    \n",
    "    \"\"\"\n",
    "    \n",
    "    fit_model = model.fit(X_train, y_train)\n",
    "    # creating y_pred values for train and test sets\n",
    "    y_hat_test = fit_model.predict(X_test)\n",
    "    y_hat_train = fit_model.predict(X_train)\n",
    "    # comparing accuracy and recall score s of the train and test sets\n",
    "    print(f\"Train recall score: {metrics.recall_score(y_train, y_hat_train, average='weighted')}\")\n",
    "    print(f\"Test recall score: {metrics.recall_score(y_test, y_hat_test, average='weighted')}\")\n",
    "    \n",
    "    # printing out classification report and plotting confusion matrix\n",
    "    print(\"\\nClassification Report\")\n",
    "    print('---' * 8)\n",
    "    print(classification_report(y_test, y_hat_test))\n",
    "    plot_confusion_matrix(fit_model, X_test,y_test,normalize='true',cmap='Reds')\n",
    "    \n",
    "    # Plot Roc Curve on second ax\n",
    "    roc_plot = plot_roc_curve(fit_model, X_test, y_test)\n",
    "    plt.legend()\n",
    "    # Threshold line\n",
    "    plt.plot([0,1],[0,1],ls=':')\n",
    "    plt.title('ROC Curve')\n",
    "    plt.show()"
   ]
  },
  {
   "cell_type": "code",
   "execution_count": 54,
   "metadata": {},
   "outputs": [
    {
     "name": "stdout",
     "output_type": "stream",
     "text": [
      "Train recall score: 0.971830985915493\n",
      "Test recall score: 0.972027972027972\n",
      "\n",
      "Classification Report\n",
      "------------------------\n",
      "              precision    recall  f1-score   support\n",
      "\n",
      "           0       0.99      0.97      0.98        89\n",
      "           1       0.95      0.98      0.96        54\n",
      "\n",
      "    accuracy                           0.97       143\n",
      "   macro avg       0.97      0.97      0.97       143\n",
      "weighted avg       0.97      0.97      0.97       143\n",
      "\n"
     ]
    },
    {
     "data": {
      "image/png": "[encoded data removed]",
      "text/plain": [
       "<Figure size 432x288 with 2 Axes>"
      ]
     },
     "metadata": {
      "needs_background": "dark"
     },
     "output_type": "display_data"
    },
    {
     "data": {
      "image/png": "[encoded data removed]",
      "text/plain": [
       "<Figure size 432x288 with 1 Axes>"
      ]
     },
     "metadata": {
      "needs_background": "dark"
     },
     "output_type": "display_data"
    }
   ],
   "source": [
    "evaluate_model(best_forest, X_train, y_train, X_test, y_test)"
   ]
  }
 ],
 "metadata": {
  "kernelspec": {
   "display_name": "Python 3",
   "language": "python",
   "name": "python3"
  },
  "language_info": {
   "codemirror_mode": {
    "name": "ipython",
    "version": 3
   },
   "file_extension": ".py",
   "mimetype": "text/x-python",
   "name": "python",
   "nbconvert_exporter": "python",
   "pygments_lexer": "ipython3",
   "version": "3.6.9"
  },
  "toc": {
   "base_numbering": 1,
   "nav_menu": {},
   "number_sections": true,
   "sideBar": true,
   "skip_h1_title": false,
   "title_cell": "Table of Contents",
   "title_sidebar": "Contents",
   "toc_cell": false,
   "toc_position": {},
   "toc_section_display": true,
   "toc_window_display": false
  }
 },
 "nbformat": 4,
 "nbformat_minor": 2
}
